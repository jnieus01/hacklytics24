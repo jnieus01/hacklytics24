{
 "cells": [
  {
   "cell_type": "markdown",
   "id": "3c6b06f5-fbaf-4218-adc1-4e4ba9964605",
   "metadata": {},
   "source": [
    "## Data Preprocessing"
   ]
  },
  {
   "cell_type": "code",
   "execution_count": 1,
   "id": "243d5669-10a5-4be4-a03a-c1e4f31f3bdb",
   "metadata": {},
   "outputs": [],
   "source": [
    "import pandas as pd\n",
    "from datasets import load_dataset"
   ]
  },
  {
   "cell_type": "code",
   "execution_count": 2,
   "id": "4edc8092-acd8-414b-b3e7-502a1e829007",
   "metadata": {},
   "outputs": [],
   "source": [
    "pd.set_option('display.max_rows', None)\n",
    "pd.set_option('display.max_columns', None)\n",
    "pd.set_option('display.max_colwidth', None)"
   ]
  },
  {
   "cell_type": "code",
   "execution_count": 3,
   "id": "ef71c6e6-7826-418a-b6fd-dc8789479d6a",
   "metadata": {},
   "outputs": [],
   "source": [
    "dataset = load_dataset(\"traversaal-ai-hackathon/hotel_datasets\")"
   ]
  },
  {
   "cell_type": "code",
   "execution_count": 4,
   "id": "09225af7-c79b-4d0d-a4fc-56511e8da456",
   "metadata": {},
   "outputs": [],
   "source": [
    "df = pd.DataFrame(dataset['train'])"
   ]
  },
  {
   "cell_type": "markdown",
   "id": "759f9a56-c5a2-40b5-9d64-090d5af3b110",
   "metadata": {},
   "source": [
    "### Clean 'price_range' Column by converting to description"
   ]
  },
  {
   "cell_type": "code",
   "execution_count": 5,
   "id": "175176a7-250d-4074-87cc-eed10c87784a",
   "metadata": {},
   "outputs": [],
   "source": [
    "def convert_price_range(price_range):\n",
    "    mapping = {\n",
    "        \"$ (Based on Average Nightly Rates for a Standard Room from our Partners)\": \"Cheap\",\n",
    "        \"$$ (Based on Average Nightly Rates for a Standard Room from our Partners)\": \"Moderate\",\n",
    "        \"$$$ (Based on Average Nightly Rates for a Standard Room from our Partners)\": \"Expensive\"\n",
    "    }\n",
    "    return mapping.get(price_range, \"Unknown\")\n",
    "\n",
    "df['price_range'] = df['price_range'].apply(convert_price_range)"
   ]
  },
  {
   "cell_type": "markdown",
   "id": "0d53776f-5113-40ed-ad83-354eefde6111",
   "metadata": {},
   "source": [
    "### Clean 'country' Column by translating Turkiye to Turkey "
   ]
  },
  {
   "cell_type": "code",
   "execution_count": 8,
   "id": "73c07b04-2904-42bd-a782-8e6832af112d",
   "metadata": {},
   "outputs": [],
   "source": [
    "df['country'] = df['country'].replace(['Turkiye', 'Türkiye'], 'Turkey')"
   ]
  },
  {
   "cell_type": "markdown",
   "id": "3b35fd51-e5d9-45e7-b324-318d21c56c9b",
   "metadata": {},
   "source": [
    "### Make Cleaned Dataset Text File for RAG"
   ]
  },
  {
   "cell_type": "code",
   "execution_count": 9,
   "id": "c513126a-8c32-4454-b0e5-6065cdb5ee37",
   "metadata": {},
   "outputs": [],
   "source": [
    "df_subset = df[['hotel_name', 'hotel_description', 'review_title', 'review_text', 'price_range',\n",
    "                'street_address', 'locality', 'country', 'rate', 'tripdate', 'rating_value', 'review_count']].copy()\n",
    "\n",
    "# Concatenate the columns into a single text column\n",
    "df_subset['combined_text'] = df_subset.apply(lambda row: f\"Hotel Name: {row['hotel_name']}\\n\"\n",
    "                                                         f\"Hotel Description: {row['hotel_description']}\\n\"\n",
    "                                                         f\"Review Title: {row['review_title']}\\n\"\n",
    "                                                         f\"Review Text: {row['review_text']}\\n\"\n",
    "                                                         f\"Trip Date: {row['tripdate']}\\n\"\n",
    "                                                         f\"Price: {row['price_range']}\\n\"\n",
    "                                                         f\"User Rating: {row['rate']}\\n\"\n",
    "                                                         f\"Average Rating: {row['rating_value']}\\n\"\n",
    "                                                         f\"Total Review Count: {row['review_count']}\\n\"\n",
    "                                                         f\"Address: {row['street_address']}, {row['locality']}, {row['country']}\\n\",\n",
    "                                                         axis=1)\n",
    "\n",
    "# Export this combined column to a text file\n",
    "with open('hotel_data_for_vector_db.txt', 'w', encoding='utf-8') as file:\n",
    "    for text in df_subset['combined_text']:\n",
    "        file.write(text + \"\\n\\n\")"
   ]
  },
  {
   "cell_type": "code",
   "execution_count": 10,
   "id": "e4efe764-03a8-4406-ad6e-8f0ecd01301d",
   "metadata": {},
   "outputs": [
    {
     "name": "stdout",
     "output_type": "stream",
     "text": [
      "Hotel Name: Romance Istanbul Hotel\n",
      "\n",
      "Hotel Description: Romance Istanbul Hotel has 39 rooms.Every room is elegantly furnished and harmonizes the modern life style with the traditional Ottoman touch. Romance Istanbul sits at the intersection of the old city’s most important part. With its luxuriously inspiring design and landmark old city location, steeped in the history of its surroundings, Romance Istanbul Hotel welcomes you with exceptional designed rooms and world-renowned Turkish hospitality. Our colleagues deliver the most personal service. It is perfectly placed and perfectly designed to enhance all that Istanbul has to offer. Each room offers a private bathroom and shower. Each is equipped with a satellite TV and free wifi connection. The rooms size change between 20 m2 and 45 m2. It includes 7 suite rooms: 1 Royal Suite, 4 Grand Suite, 1 Romance Suite and 1 Premium Suite, 2 Luxury Room With Terrace, 22 Deluxe Room, 8 City Room.\n",
      "\n",
      "Review Title: An exceptional boutique hotel, great value for your money\n",
      "\n",
      "Review Text: None\n",
      "\n",
      "Trip Date:  February 2020\n",
      "\n",
      "Price: Cheap\n",
      "\n",
      "User Rating: nan\n",
      "\n",
      "Average Rating: 5.0\n",
      "\n",
      "Total Review Count: 4023\n",
      "\n",
      "Address: Hudavendigar Cd. No:5 Sirkeci, Istanbul, Turkey\n",
      "\n",
      "\n",
      "\n",
      "\n",
      "\n",
      "Hotel Name: Romance Istanbul Hotel\n",
      "\n",
      "Hotel Description: Romance Istanbul Hotel has 39 rooms.Every room is elegantly furnished and harmonizes the modern life style with the traditional Ottoman touch. Romance Istanbul sits at the intersection of the old city’s most important part. With its luxuriously inspiring design and landmark old city location, steeped in the history of its surroundings, Romance Istanbul Hotel welcomes you with exceptional designed rooms and world-renowned Turkish hospitality. Our colleagues deliver the most personal service. It is perfectly placed and perfectly designed to enhance all that Istanbul has to offer. Each room offers a private bathroom and shower. Each is equipped with a satellite TV and free wifi connection. The rooms size change between 20 m2 and 45 m2. It includes 7 suite rooms: 1 Royal Suite, 4 Grand Suite, 1 Romance Suite and 1 Premium Suite, 2 Luxury Room With Terrace, 22 Deluxe Room, 8 City Room.\n",
      "\n",
      "Review Title: You can’t get better than this.\n",
      "\n",
      "Review Text: None\n",
      "\n",
      "Trip Date:  March 2021\n",
      "\n",
      "Price: Cheap\n",
      "\n",
      "User Rating: nan\n",
      "\n",
      "Average Rating: 5.0\n",
      "\n",
      "Total Review Count: 4023\n",
      "\n",
      "Address: Hudavendigar Cd. No:5 Sirkeci, Istanbul, Turkey\n",
      "\n",
      "\n",
      "\n",
      "\n",
      "\n",
      "Hotel Name: Romance Istanbul Hotel\n",
      "\n",
      "Hotel Description: Romance Istanbul Hotel has 39 rooms.Every room is elegantly furnished and harmonizes the modern life style with the traditional Ottoman touch. Romance Istanbul sits at the intersection of the old city’s most important part. With its luxuriously inspiring design and landmark old city location, steeped in the history of its surroundings, Romance Istanbul Hotel welcomes you with exceptional designed rooms and world-renowned Turkish hospitality. Our colleagues deliver the most personal service. It is perfectly placed and perfectly designed to enhance all that Istanbul has to offer. Each room offers a private bathroom and shower. Each is equipped with a satellite TV and free wifi connection. The rooms size change between 20 m2 and 45 m2. It includes 7 suite rooms: 1 Royal Suite, 4 Grand Suite, 1 Romance Suite and 1 Premium Suite, 2 Luxury Room With Terrace, 22 Deluxe Room, 8 City Room.\n",
      "\n",
      "Review Title: Exceeds all expectations\n",
      "\n",
      "Review Text: None\n",
      "\n",
      "Trip Date:  March 2021\n",
      "\n",
      "Price: Cheap\n",
      "\n",
      "User Rating: nan\n",
      "\n",
      "Average Rating: 5.0\n",
      "\n",
      "Total Review Count: 4023\n",
      "\n",
      "Address: Hudavendigar Cd. No:5 Sirkeci, Istanbul, Turkey\n",
      "\n",
      "\n",
      "\n",
      "\n",
      "\n",
      "Hotel Name: Romance Istanbul Hotel\n",
      "\n",
      "Hotel Description: Romance Istanbul Hotel has 39 rooms.Every room is elegantly furnished and harmonizes the modern life style with the traditional Ottoman touch. Romance Istanbul sits at the intersection of the old city’s most important part. With its luxuriously inspiring design and landmark old city location, steeped in the history of its surroundings, Romance Istanbul Hotel welcomes you with exceptional designed rooms and world-renowned Turkish hospitality. Our colleagues deliver the most personal service. It is perfectly placed and perfectly designed to enhance all that Istanbul has to offer. Each room offers a private bathroom and shower. Each is equipped with a satellite TV and free wifi connection. The rooms size change between 20 m2 and 45 m2. It includes 7 suite rooms: 1 Royal Suite, 4 Grand Suite, 1 Romance Suite and 1 Premium Suite, 2 Luxury Room With Terrace, 22 Deluxe Room, 8 City Room.\n",
      "\n",
      "Review Title: Great Location, Fantastic Accommodations\n",
      "\n",
      "Review Text: None\n",
      "\n"
     ]
    }
   ],
   "source": [
    "file_path = 'hotel_data_for_vector_db.txt'\n",
    "\n",
    "# Open the file and read the first few lines\n",
    "with open(file_path, 'r', encoding='utf-8') as file:\n",
    "    for _ in range(40):  # Adjust the number 5 to change how many lines you read\n",
    "        line = file.readline()\n",
    "        print(line)\n"
   ]
  },
  {
   "cell_type": "code",
   "execution_count": null,
   "id": "9d5e5cf2-3253-4a80-b7d3-66ff36179aea",
   "metadata": {},
   "outputs": [],
   "source": []
  }
 ],
 "metadata": {
  "kernelspec": {
   "display_name": "pytorch-gpu",
   "language": "python",
   "name": "pytorch-gpu"
  },
  "language_info": {
   "codemirror_mode": {
    "name": "ipython",
    "version": 3
   },
   "file_extension": ".py",
   "mimetype": "text/x-python",
   "name": "python",
   "nbconvert_exporter": "python",
   "pygments_lexer": "ipython3",
   "version": "3.9.16"
  }
 },
 "nbformat": 4,
 "nbformat_minor": 5
}
